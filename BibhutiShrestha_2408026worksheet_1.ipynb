{
  "cells": [
    {
      "cell_type": "markdown",
      "metadata": {
        "id": "dgaH7wklcGBu"
      },
      "source": [
        "Task 1"
      ]
    },
    {
      "cell_type": "code",
      "execution_count": null,
      "metadata": {
        "colab": {
          "base_uri": "https://localhost:8080/"
        },
        "id": "8EVKHbvscHn5",
        "outputId": "54ac4e68-c08e-4b79-a80e-4d4b2749a71c"
      },
      "outputs": [
        {
          "name": "stdout",
          "output_type": "stream",
          "text": [
            " Result with np.dot :\n",
            " [[ 58  64]\n",
            " [139 154]]\n"
          ]
        }
      ],
      "source": [
        "import numpy as np\n",
        "# Define two matrices\n",
        "A = np . array ([[1 , 2 , 3] , [4 , 5 , 6]])\n",
        "B = np . array ([[7 , 8] , [9 , 10] , [11 , 12]])\n",
        "# Matrix multiplication using np.dot\n",
        "result_dot = np . dot (A , B )\n",
        "print (\" Result with np.dot :\\n\", result_dot )"
      ]
    },
    {
      "cell_type": "markdown",
      "metadata": {
        "id": "SBaTR0VCXw4p"
      },
      "source": [
        "Task 2"
      ]
    },
    {
      "cell_type": "code",
      "execution_count": null,
      "metadata": {
        "colab": {
          "base_uri": "https://localhost:8080/"
        },
        "id": "O76R-DNnX04q",
        "outputId": "9cfcd610-fc23-453d-9368-66f2763399d1"
      },
      "outputs": [
        {
          "name": "stdout",
          "output_type": "stream",
          "text": [
            "Basic: arr1d: [1 2 3] arr2d: [[3 4]\n",
            " [6 7]] arr3d: [[[5]\n",
            "  [7]]]\n",
            "Step: arr1d: [1 3] arr2d: [[1]\n",
            " [7]] arr3d: [[[1]]\n",
            "\n",
            " [[9]]]\n"
          ]
        }
      ],
      "source": [
        "import numpy as np\n",
        "\n",
        "# Arrays\n",
        "arr1d = np.array([0, 1, 2, 3, 4, 5])\n",
        "arr2d = np.array([[0, 1, 2], [3, 4, 5], [6, 7, 8]])\n",
        "arr3d = np.array([[[0, 1], [2, 3]], [[4, 5], [6, 7]], [[8, 9], [10, 11]]])\n",
        "\n",
        "# Slicing examples\n",
        "print(\"Basic:\",\n",
        "      \"arr1d:\", arr1d[1:4],\n",
        "      \"arr2d:\", arr2d[1:3, 0:2],\n",
        "      \"arr3d:\", arr3d[1:2, 0:2, 1:2])\n",
        "# Output Basic: arr1d: [1 2 3] arr2d: [[3 4] [6 7]] arr3d: [[[5] [7]]]\n",
        "\n",
        "print(\"Step:\",\n",
        "      \"arr1d:\", arr1d[1:5:2],\n",
        "      \"arr2d:\", arr2d[::2, 1::2],\n",
        "      \"arr3d:\", arr3d[::2, ::2, 1::2])\n",
        "# Output Step: arr1d: [1 3] arr2d: [[1] [7]] arr3d: [[[1] [9]]]\n",
        "\n"
      ]
    },
    {
      "cell_type": "markdown",
      "metadata": {
        "id": "GNaz1oTGcJOj"
      },
      "source": [
        "Task 3"
      ]
    },
    {
      "cell_type": "code",
      "execution_count": null,
      "metadata": {
        "colab": {
          "base_uri": "https://localhost:8080/"
        },
        "id": "MGKdbdRbcK55",
        "outputId": "f6f198a0-2876-4162-ffe2-875e3ba26aa9"
      },
      "outputs": [
        {
          "name": "stdout",
          "output_type": "stream",
          "text": [
            " Result with @ operator :\n",
            " [[ 58  64]\n",
            " [139 154]]\n",
            " Result with np. matmul :\n",
            " [[ 58  64]\n",
            " [139 154]]\n"
          ]
        }
      ],
      "source": [
        "import numpy as np\n",
        "# Define two matrices\n",
        "A = np . array ([[1 , 2 , 3] , [4 , 5 , 6]])\n",
        "B = np . array ([[7 , 8] , [9 , 10] , [11 , 12]])\n",
        "# Matrix multiplication using @ operator\n",
        "result_at = A @ B\n",
        "print (\" Result with @ operator :\\n\", result_at )\n",
        "\n",
        "# Matrix multiplication using np. matmul\n",
        "result_matmul = np . matmul (A , B )\n",
        "print (\" Result with np. matmul :\\n\", result_matmul )"
      ]
    },
    {
      "cell_type": "markdown",
      "metadata": {
        "id": "5OYLTC9kcRrm"
      },
      "source": [
        "Task 4"
      ]
    },
    {
      "cell_type": "code",
      "execution_count": null,
      "metadata": {
        "colab": {
          "base_uri": "https://localhost:8080/"
        },
        "id": "VVjcIRe0cTc-",
        "outputId": "68229456-0cc3-427f-9be2-cf87250e43dc"
      },
      "outputs": [
        {
          "name": "stdout",
          "output_type": "stream",
          "text": [
            "Inverse:\n",
            " [[-2.   1. ]\n",
            " [ 1.5 -0.5]]\n",
            "Determinant: -2.0000000000000004\n",
            "Frobenius Norm: 5.477225575051661\n",
            "2-Norm (Euclidean): 5.477225575051661\n",
            "Solution x: [-4.   4.5]\n"
          ]
        }
      ],
      "source": [
        "import numpy as np\n",
        "A = np.array([[1, 2], [3, 4]])\n",
        "B = np.array([5, 6])\n",
        "print(\"Inverse:\\n\", np.linalg.inv(A))\n",
        "print(\"Determinant:\", np.linalg.det(A))\n",
        "print(\"Frobenius Norm:\", np.linalg.norm(A, 'fro'))\n",
        "print(\"2-Norm (Euclidean):\", np.linalg.norm(A))\n",
        "print(\"Solution x:\", np.linalg.solve(A, B))"
      ]
    },
    {
      "cell_type": "markdown",
      "metadata": {
        "id": "3XtxmqzNcbYK"
      },
      "source": [
        "Task 5"
      ]
    },
    {
      "cell_type": "code",
      "execution_count": null,
      "metadata": {
        "colab": {
          "base_uri": "https://localhost:8080/"
        },
        "id": "bUUevK3wcdN-",
        "outputId": "a5de48ec-decb-4e8e-ebd2-634e1f9eb02c"
      },
      "outputs": [
        {
          "name": "stdout",
          "output_type": "stream",
          "text": [
            "Pure Python addition: 2.170921 seconds per loop\n",
            "NumPy addition: 0.011109 seconds per loop\n"
          ]
        }
      ],
      "source": [
        "import numpy as np\n",
        "import random\n",
        "from timeit import timeit\n",
        "\n",
        "# Define a function to add two lists using pure Python\n",
        "def add_python(Z1, Z2):\n",
        "    # Element-wise addition using list comprehension\n",
        "    return [z1 + z2 for z1, z2 in zip(Z1, Z2)]\n",
        "\n",
        "# Define a function to add two arrays using NumPy\n",
        "def add_numpy(Z1, Z2):\n",
        "    # Element-wise addition using NumPy\n",
        "    return np.add(Z1, Z2)\n",
        "\n",
        "# Generate large random data for testing\n",
        "size = 100000  # Size of the sample data (large to observe performance difference)\n",
        "\n",
        "# Create two random lists with 'size' elements\n",
        "Z1_list = random.sample(range(size + 1), size)\n",
        "Z2_list = random.sample(range(size + 1), size)\n",
        "\n",
        "# Convert the lists to NumPy arrays\n",
        "Z1_np = np.array(Z1_list)\n",
        "Z2_np = np.array(Z2_list)\n",
        "\n",
        "# Measure the execution time for the pure Python addition\n",
        "python_time = timeit(\"add_python(Z1_list, Z2_list)\", globals=globals(), number=100)\n",
        "\n",
        "# Measure the execution time for the NumPy addition\n",
        "numpy_time = timeit(\"add_numpy(Z1_np, Z2_np)\", globals=globals(), number=100)\n",
        "\n",
        "# Print the execution times for comparison\n",
        "print(f\"Pure Python addition: {python_time:.6f} seconds per loop\")\n",
        "print(f\"NumPy addition: {numpy_time:.6f} seconds per loop\")"
      ]
    },
    {
      "cell_type": "markdown",
      "metadata": {
        "id": "IklYKU-7cqyb"
      },
      "source": [
        "Task 6"
      ]
    },
    {
      "cell_type": "code",
      "execution_count": null,
      "metadata": {
        "colab": {
          "base_uri": "https://localhost:8080/"
        },
        "id": "EJdQFYjsct0e",
        "outputId": "8b96f184-8ef6-4a4e-dbb6-e28c4c11cd1b"
      },
      "outputs": [
        {
          "name": "stdout",
          "output_type": "stream",
          "text": [
            "A zeros array is:\n",
            " [[0. 0. 0.]\n",
            " [0. 0. 0.]] \n",
            "with dimensions: (2, 3) \n",
            "\n"
          ]
        }
      ],
      "source": [
        "import numpy as np\n",
        "\n",
        "# Initialize an all-zero array with size 2 x 3:\n",
        "zeros_arr = np.zeros((2, 3))\n",
        "print(\"A zeros array is:\\n\", zeros_arr, \"\\nwith dimensions:\", zeros_arr.shape, \"\\n\")"
      ]
    },
    {
      "cell_type": "markdown",
      "metadata": {
        "id": "b8ph5ttAc8we"
      },
      "source": [
        "Task 7"
      ]
    },
    {
      "cell_type": "code",
      "execution_count": null,
      "metadata": {
        "colab": {
          "base_uri": "https://localhost:8080/"
        },
        "id": "5TWTkObcc-Sm",
        "outputId": "76c01b00-ef2d-438c-9bd3-d1c063f323ce"
      },
      "outputs": [
        {
          "name": "stdout",
          "output_type": "stream",
          "text": [
            "Array:\n",
            "5\n",
            "Dimension: 0\n",
            "Data type: int64\n",
            "\n",
            "Array:\n",
            "[1 2 3]\n",
            "Dimension: 1\n",
            "Data type: int64\n",
            "\n",
            "Array:\n",
            "[[1 2]\n",
            " [3 4]]\n",
            "Dimension: 2\n",
            "Data type: int64\n",
            "\n"
          ]
        }
      ],
      "source": [
        "import numpy as np\n",
        "\n",
        "# Create and display zero, one, and n-dimensional arrays\n",
        "zero_dim_array = np.array(5)\n",
        "one_dim_array = np.array([1, 2, 3])\n",
        "n_dim_array = np.array([[1, 2], [3, 4]])\n",
        "\n",
        "for arr in [zero_dim_array, one_dim_array, n_dim_array]:\n",
        "    print(f\"Array:\\n{arr}\\nDimension: {arr.ndim}\\nData type: {arr.dtype}\\n\")"
      ]
    },
    {
      "cell_type": "markdown",
      "metadata": {
        "id": "x3leKKEHdBtn"
      },
      "source": [
        "Task 8"
      ]
    },
    {
      "cell_type": "code",
      "execution_count": null,
      "metadata": {
        "colab": {
          "base_uri": "https://localhost:8080/"
        },
        "id": "MwPmVGjidDD3",
        "outputId": "c50f79e8-5d26-46fe-99ca-48fceae15b2d"
      },
      "outputs": [
        {
          "name": "stdout",
          "output_type": "stream",
          "text": [
            "0D Array:\n",
            "5\n",
            "Shape: ()\n",
            "\n",
            "1D Array:\n",
            "[1 2 3 4 5]\n",
            "Shape: (5,)\n",
            "\n",
            "2D Array:\n",
            "[[1 2 3]\n",
            " [4 5 6]]\n",
            "Shape: (2, 3)\n",
            "\n",
            "3D Array:\n",
            "[[[1 2]\n",
            "  [3 4]]\n",
            "\n",
            " [[5 6]\n",
            "  [7 8]]]\n",
            "Shape: (2, 2, 2)\n",
            "\n"
          ]
        }
      ],
      "source": [
        "import numpy as np\n",
        "\n",
        "# Create arrays of different dimensions\n",
        "array_0d = np.array(5)\n",
        "array_1d = np.array([1, 2, 3, 4, 5])\n",
        "array_2d = np.array([[1, 2, 3], [4, 5, 6]])\n",
        "array_3d = np.array([[[1, 2], [3, 4]], [[5, 6], [7, 8]]])\n",
        "\n",
        "# Print arrays with shapes\n",
        "for i, arr in enumerate([array_0d, array_1d, array_2d, array_3d]):\n",
        "    print(f\"{i}D Array:\\n{arr}\\nShape: {arr.shape}\\n\")"
      ]
    },
    {
      "cell_type": "markdown",
      "metadata": {
        "id": "vNFDwKTWdJBd"
      },
      "source": [
        "Task 9"
      ]
    },
    {
      "cell_type": "code",
      "execution_count": null,
      "metadata": {
        "colab": {
          "base_uri": "https://localhost:8080/"
        },
        "id": "RScCNKw_dK8z",
        "outputId": "c02e3f94-245a-4965-e641-d84fc8e831df"
      },
      "outputs": [
        {
          "name": "stdout",
          "output_type": "stream",
          "text": [
            "Original Shape: (2, 3) \n",
            "Reshaped Shape: (3, 2)\n"
          ]
        }
      ],
      "source": [
        "import numpy as np\n",
        "\n",
        "# Create an array with shape (2, 3)\n",
        "array = np.array([[1, 2, 3], [4, 5, 6]])  # Shape (2, 3)\n",
        "\n",
        "# Reshape to (3, 2), keeping 6 elements\n",
        "reshaped_array = array.reshape(3, 2)\n",
        "\n",
        "# Print original and reshaped shapes\n",
        "print(\"Original Shape:\", array.shape, \"\\nReshaped Shape:\", reshaped_array.shape)\n",
        "\n",
        "# Expected Outputs:\n",
        "# Original Shape: (2, 3)\n",
        "# Reshaped Shape: (3, 2)"
      ]
    },
    {
      "cell_type": "markdown",
      "metadata": {
        "id": "Xawz2qkvdQkt"
      },
      "source": [
        "Task 10"
      ]
    },
    {
      "cell_type": "code",
      "execution_count": null,
      "metadata": {
        "colab": {
          "base_uri": "https://localhost:8080/"
        },
        "id": "Gs0GSSSndSL2",
        "outputId": "0875f6f3-88b8-4f46-9acc-1384aadb0600"
      },
      "outputs": [
        {
          "name": "stdout",
          "output_type": "stream",
          "text": [
            "[1 2 3 4 5 6 7 8 9]\n",
            "range(1, 10)\n",
            "[1, 2, 3, 4, 5, 6, 7, 8, 9]\n",
            "[ 0.  1.  2.  3.  4.  5.  6.  7.  8.  9. 10.]\n",
            "[ 0.5  1.3  2.1  2.9  3.7  4.5  5.3  6.1  6.9  7.7  8.5  9.3 10.1]\n"
          ]
        }
      ],
      "source": [
        "import numpy as np\n",
        "\n",
        "# Example 1: Using numpy arange\n",
        "a = np.arange(1, 10)\n",
        "print(a)\n",
        "\n",
        "# Example 2: Using Python's range\n",
        "x = range(1, 10)\n",
        "print(x)  # x is an iterator\n",
        "print(list(x))  # Convert the range object to a list and print\n",
        "\n",
        "# Further numpy arange examples:\n",
        "x = np.arange(10.4)\n",
        "print(x)\n",
        "\n",
        "x = np.arange(0.5, 10.4, 0.8)\n",
        "print(x)"
      ]
    },
    {
      "cell_type": "markdown",
      "metadata": {
        "id": "_LW7EhxUdV2K"
      },
      "source": [
        "Task 11"
      ]
    },
    {
      "cell_type": "code",
      "execution_count": null,
      "metadata": {
        "colab": {
          "base_uri": "https://localhost:8080/"
        },
        "id": "aCUktcFpdXON",
        "outputId": "adb72427-77c3-4c23-82bc-6b49590cc860"
      },
      "outputs": [
        {
          "name": "stdout",
          "output_type": "stream",
          "text": [
            "[ 1.          1.18367347  1.36734694  1.55102041  1.73469388  1.91836735\n",
            "  2.10204082  2.28571429  2.46938776  2.65306122  2.83673469  3.02040816\n",
            "  3.20408163  3.3877551   3.57142857  3.75510204  3.93877551  4.12244898\n",
            "  4.30612245  4.48979592  4.67346939  4.85714286  5.04081633  5.2244898\n",
            "  5.40816327  5.59183673  5.7755102   5.95918367  6.14285714  6.32653061\n",
            "  6.51020408  6.69387755  6.87755102  7.06122449  7.24489796  7.42857143\n",
            "  7.6122449   7.79591837  7.97959184  8.16326531  8.34693878  8.53061224\n",
            "  8.71428571  8.89795918  9.08163265  9.26530612  9.44897959  9.63265306\n",
            "  9.81632653 10.        ]\n",
            "[ 1.   2.5  4.   5.5  7.   8.5 10. ]\n",
            "[1.         2.28571429 3.57142857 4.85714286 6.14285714 7.42857143\n",
            " 8.71428571]\n"
          ]
        }
      ],
      "source": [
        "import numpy as np\n",
        "\n",
        "# 50 values between 1 and 10:\n",
        "print(np.linspace(1, 10))\n",
        "\n",
        "# 7 values between 1 and 10:\n",
        "print(np.linspace(1, 10, 7))\n",
        "\n",
        "# Excluding the endpoint:\n",
        "print(np.linspace(1, 10, 7, endpoint=False))"
      ]
    },
    {
      "cell_type": "markdown",
      "metadata": {
        "id": "tT-hm_5gda_-"
      },
      "source": [
        "Task 12"
      ]
    },
    {
      "cell_type": "code",
      "execution_count": null,
      "metadata": {
        "colab": {
          "base_uri": "https://localhost:8080/"
        },
        "id": "Qkl4x4EQdcfT",
        "outputId": "9702784b-a92b-41be-8f08-9077893f1f15"
      },
      "outputs": [
        {
          "name": "stdout",
          "output_type": "stream",
          "text": [
            "[[1. 1. 1.]\n",
            " [1. 1. 1.]]\n",
            "\n",
            "[[0. 0.]\n",
            " [0. 0.]\n",
            " [0. 0.]]\n",
            "\n",
            "[[2.  1. ]\n",
            " [1.5 0.5]]\n",
            "\n",
            "[[1. 0. 0.]\n",
            " [0. 1. 0.]\n",
            " [0. 0. 1.]]\n"
          ]
        }
      ],
      "source": [
        "import numpy as np\n",
        "\n",
        "# Create arrays of specified shapes\n",
        "ones_array = np.ones((2, 3))  # Shape: (2, 3)\n",
        "zeros_array = np.zeros((3, 2))  # Shape: (3, 2)\n",
        "empty_array = np.empty((2, 2))  # Shape: (2, 2)\n",
        "identity_matrix = np.eye(3)  # Shape: (3, 3)\n",
        "\n",
        "# Print the arrays\n",
        "print(ones_array, zeros_array, empty_array, identity_matrix, sep='\\n\\n')"
      ]
    },
    {
      "cell_type": "markdown",
      "metadata": {
        "id": "lp11dgaQdjHE"
      },
      "source": [
        "Task 13"
      ]
    },
    {
      "cell_type": "code",
      "execution_count": null,
      "metadata": {
        "colab": {
          "base_uri": "https://localhost:8080/"
        },
        "id": "lOrahBcndk8F",
        "outputId": "2333101a-99cf-4584-ab35-aaf346cae39c"
      },
      "outputs": [
        {
          "name": "stdout",
          "output_type": "stream",
          "text": [
            "[1 2 3]\n",
            "[4 5 6]\n",
            "[[1 2 3]\n",
            " [4 5 6]]\n"
          ]
        }
      ],
      "source": [
        "import numpy as np\n",
        "\n",
        "# Create arrays from list, tuple, and nested list\n",
        "array_from_list = np.array([1, 2, 3])  # [1 2 3]\n",
        "array_from_tuple = np.array((4, 5, 6))  # [4 5 6]\n",
        "array_from_nested_list = np.array([[1, 2, 3], [4, 5, 6]])  # [[1 2 3] [4 5 6]]\n",
        "\n",
        "# Print the arrays\n",
        "print(array_from_list, array_from_tuple, array_from_nested_list, sep='\\n')"
      ]
    },
    {
      "cell_type": "markdown",
      "metadata": {
        "id": "aGExzPZTdvfC"
      },
      "source": [
        "Task 14"
      ]
    },
    {
      "cell_type": "code",
      "execution_count": null,
      "metadata": {
        "colab": {
          "base_uri": "https://localhost:8080/"
        },
        "id": "X33oHsZ6dw7f",
        "outputId": "b96edb48-9481-4250-d4f9-b910c73caa79"
      },
      "outputs": [
        {
          "name": "stdout",
          "output_type": "stream",
          "text": [
            "[[1 2 3]\n",
            " [4 5 6]]\n",
            "[[0. 0. 0.]\n",
            " [0. 0. 0.]]\n",
            "[[1. 1. 1.]\n",
            " [1. 1. 1.]]\n",
            "[[4.71320251e-310 0.00000000e+000 6.66471434e-310]\n",
            " [6.66469324e-310 6.66469324e-310 6.66469331e-310]]\n"
          ]
        }
      ],
      "source": [
        "import numpy as np\n",
        "\n",
        "# Existing Array of Shape: (2, 3)\n",
        "arr = np.array([[1, 2, 3], [4, 5, 6]])\n",
        "\n",
        "# Creating Arrays with the Shape of the existing array:\n",
        "zeros, ones, empty = np.zeros(arr.shape), np.ones(arr.shape), np.empty(arr.shape)  # Shape: (2, 3)\n",
        "\n",
        "# Print the arrays\n",
        "print(arr, zeros, ones, empty, sep='\\n')"
      ]
    },
    {
      "cell_type": "markdown",
      "metadata": {
        "id": "uzCuyzZGd0hu"
      },
      "source": [
        "Task 15"
      ]
    },
    {
      "cell_type": "code",
      "execution_count": null,
      "metadata": {
        "colab": {
          "base_uri": "https://localhost:8080/"
        },
        "id": "bsxukOEmd2N8",
        "outputId": "9c3b55c0-5fe2-4854-ec1c-3339d08ff611"
      },
      "outputs": [
        {
          "name": "stdout",
          "output_type": "stream",
          "text": [
            "Original array: [1 2 3]\n",
            "New array (multiplied by 2): [2 4 6]\n",
            "Copied array: [1 2 3]\n",
            "Sliced array (index 1 to 3): [2 3]\n"
          ]
        }
      ],
      "source": [
        "import numpy as np\n",
        "\n",
        "# Original array\n",
        "array = np.array([1, 2, 3])\n",
        "\n",
        "# Multiplies each element by 2, result: [2, 4, 6]\n",
        "new_array = array * 2\n",
        "\n",
        "# Creates a new array with the same elements\n",
        "copied_array = np.copy(array)\n",
        "\n",
        "# Slices elements from index 1 to 3, result: [2, 3]\n",
        "sliced_array = array[1:3]\n",
        "\n",
        "# Print the arrays\n",
        "print(\"Original array:\", array)\n",
        "print(\"New array (multiplied by 2):\", new_array)\n",
        "print(\"Copied array:\", copied_array)\n",
        "print(\"Sliced array (index 1 to 3):\", sliced_array)"
      ]
    },
    {
      "cell_type": "markdown",
      "metadata": {
        "id": "ltSd9Wcgd69N"
      },
      "source": [
        "Task 16"
      ]
    },
    {
      "cell_type": "code",
      "execution_count": null,
      "metadata": {
        "colab": {
          "base_uri": "https://localhost:8080/"
        },
        "id": "fMLBTRRWd85C",
        "outputId": "2d1f3086-1258-4f1f-be70-9480b9c676ae"
      },
      "outputs": [
        {
          "name": "stdout",
          "output_type": "stream",
          "text": [
            "[[1 2 5 6]\n",
            " [3 4 7 8]]\n",
            "[[1 2]\n",
            " [3 4]\n",
            " [5 6]\n",
            " [7 8]]\n",
            "[[1 5]\n",
            " [2 6]]\n"
          ]
        }
      ],
      "source": [
        "import numpy as np\n",
        "\n",
        "# Arrays to stack\n",
        "arr1 = np.array([[1, 2], [3, 4]])  # Shape: (2, 2)\n",
        "arr2 = np.array([[5, 6], [7, 8]])  # Shape: (2, 2)\n",
        "\n",
        "# Stacking examples\n",
        "\n",
        "# Horizontal stacking: arr1 and arr2 side by side\n",
        "hstacked = np.hstack((arr1, arr2))\n",
        "# Output: [[1 2 5 6] [3 4 7 8]]\n",
        "\n",
        "# Vertical stacking: arr1 and arr2 on top of each other\n",
        "vstacked = np.vstack((arr1, arr2))\n",
        "# Output: [[1 2] [3 4] [5 6] [7 8]]\n",
        "\n",
        "# Column stacking: arr1[0] and arr2[0] stacked as columns\n",
        "colstacked = np.column_stack((arr1[0], arr2[0]))\n",
        "# Output: [[1 5] [2 6]]\n",
        "\n",
        "# Print the arrays\n",
        "print(hstacked, vstacked, colstacked, sep='\\n')"
      ]
    },
    {
      "cell_type": "markdown",
      "metadata": {
        "id": "oHJTkSNLeBnv"
      },
      "source": [
        "Task 17"
      ]
    },
    {
      "cell_type": "code",
      "execution_count": null,
      "metadata": {
        "colab": {
          "base_uri": "https://localhost:8080/"
        },
        "id": "a9G4MBWseDdm",
        "outputId": "9165de37-b7c1-4a50-ee0a-2e3bac933b2b"
      },
      "outputs": [
        {
          "name": "stdout",
          "output_type": "stream",
          "text": [
            "[[1 2]\n",
            " [3 4]\n",
            " [5 6]\n",
            " [7 8]]\n",
            "[[1 2 5 6]\n",
            " [3 4 7 8]]\n"
          ]
        }
      ],
      "source": [
        "import numpy as np\n",
        "\n",
        "# Arrays to concatenate\n",
        "arr1 = np.array([[1, 2], [3, 4]])  # Shape: (2, 2)\n",
        "arr2 = np.array([[5, 6], [7, 8]])  # Shape: (2, 2)\n",
        "\n",
        "# Concatenate along axis 0 (vertical)\n",
        "concat_axis0 = np.concatenate((arr1, arr2), axis=0)\n",
        "# Shape: (4, 2)\n",
        "\n",
        "# Concatenate along axis 1 (horizontal)\n",
        "concat_axis1 = np.concatenate((arr1, arr2), axis=1)\n",
        "# Shape: (2, 4)\n",
        "\n",
        "# Print the concatenated arrays\n",
        "print(concat_axis0, concat_axis1, sep='\\n')"
      ]
    },
    {
      "cell_type": "markdown",
      "metadata": {
        "id": "XAph22N9Yo48"
      },
      "source": [
        "\n",
        "\n",
        "**Worksheet 1 **"
      ]
    },
    {
      "cell_type": "markdown",
      "metadata": {
        "id": "wP3H8c6FY8Jp"
      },
      "source": [
        "Problem 1. Array Creation"
      ]
    },
    {
      "cell_type": "code",
      "execution_count": null,
      "metadata": {
        "colab": {
          "base_uri": "https://localhost:8080/"
        },
        "id": "wGhhbKQvZCG8",
        "outputId": "d0eb8183-0e4a-4fbe-93b4-442c15006459"
      },
      "outputs": [
        {
          "name": "stdout",
          "output_type": "stream",
          "text": [
            "Empty Array of 2X2:\n",
            " [[4.99288307e-310 0.00000000e+000]\n",
            " [6.81794736e-310 6.81794742e-310]]\n",
            "\n",
            "All Ones Array of (4X2):\n",
            " [[1. 1.]\n",
            " [1. 1.]\n",
            " [1. 1.]\n",
            " [1. 1.]]\n",
            "\n",
            "Array filled with value 8 (2x2):\n",
            " [[8 8]\n",
            " [8 8]]\n",
            "\n",
            "Zeros Array with same shape as given array:\n",
            " [[0 0]\n",
            " [0 0]]\n",
            "\n",
            "Ones Array with same shape as given array:\n",
            " [[1 1]\n",
            " [1 1]]\n",
            "\n",
            "Converted NumPy Array:\n",
            " [1 2 3 4]\n"
          ]
        }
      ],
      "source": [
        "import numpy as np\n",
        "\n",
        "# Initialize an empty array of size 2X2\n",
        "empty_array = np.empty((2, 2))\n",
        "print(\"Empty Array of 2X2:\\n\", empty_array)\n",
        "\n",
        "# Initialize an all-ones array of size 4x2\n",
        "ones_array = np.ones((4, 2))\n",
        "print(\"\\nAll Ones Array of (4X2):\\n\", ones_array)\n",
        "\n",
        "#Initialize a size 2x2 array of fill value\n",
        "fill_value = 8\n",
        "filled_array = np.full((2, 2), fill_value)\n",
        "print(\"\\nArray filled with value 8 (2x2):\\n\", filled_array)\n",
        "\n",
        "given_array = np.array([[1, 2,], [3, 4]])\n",
        "zeros_like_array = np.zeros_like(given_array)\n",
        "print(\"\\nZeros Array with same shape as given array:\\n\", zeros_like_array)\n",
        "\n",
        "ones_like_array = np.ones_like(given_array)\n",
        "print(\"\\nOnes Array with same shape as given array:\\n\", ones_like_array)\n",
        "\n",
        "#Converting list into array\n",
        "new_list = [1, 2, 3, 4]\n",
        "numpy_array = np.array(new_list)\n",
        "print(\"\\nConverted NumPy Array:\\n\", numpy_array)"
      ]
    },
    {
      "cell_type": "markdown",
      "metadata": {
        "id": "q4AxUSgHvTKp"
      },
      "source": [
        "Problem 2. Array Manipulation"
      ]
    },
    {
      "cell_type": "code",
      "execution_count": null,
      "metadata": {
        "colab": {
          "base_uri": "https://localhost:8080/"
        },
        "id": "XpWfic8nvYH3",
        "outputId": "8c61ea9c-ed0f-49ec-b66b-c8878bf41092"
      },
      "outputs": [
        {
          "name": "stdout",
          "output_type": "stream",
          "text": [
            "Array Range from 10 to 40:\n",
            " [10 11 12 13 14 15 16 17 18 19 20 21 22 23 24 25 26 27 28 29 30 31 32 33\n",
            " 34 35 36 37 38 39 40 41 42 43 44 45 46 47 48 49]\n",
            "\n",
            "3x3 Matrix with values from 0 to 8:\n",
            " [[0 1 2]\n",
            " [3 4 5]\n",
            " [6 7 8]]\n",
            "\n",
            "3x3 Identity Matrix:\n",
            " [[1. 0. 0.]\n",
            " [0. 1. 0.]\n",
            " [0. 0. 1.]]\n",
            "\n",
            "Random Array of size 30:\n",
            " [0.33066108 0.2289249  0.56169212 0.71703612 0.93980612 0.10876759\n",
            " 0.93074823 0.98238904 0.84839744 0.22861254 0.27557166 0.55535808\n",
            " 0.95747638 0.17686812 0.12293734 0.1190608  0.70865725 0.30297262\n",
            " 0.2719397  0.75929146 0.17969429 0.58917931 0.89873485 0.24187542\n",
            " 0.26437467 0.09671026 0.57354846 0.74205357 0.71023048 0.81046336]\n",
            "Mean of the array: 0.5078011091809619\n"
          ]
        }
      ],
      "source": [
        "import numpy as np\n",
        "\n",
        "#Initialize an array with value ranging from 10 to 49\n",
        "array_range= np.arange(10, 50)\n",
        "print(\"Array Range from 10 to 40:\\n\", array_range)\n",
        "\n",
        "#Initialize a 3x3 matrix value from 0 to 8\n",
        "matrix_3x3 = np.arange(9).reshape((3, 3))\n",
        "print(\"\\n3x3 Matrix with values from 0 to 8:\\n\", matrix_3x3)\n",
        "\n",
        "#Initialize a 3x3 identity matrix\n",
        "identity_matrix=np.eye(3)\n",
        "print(\"\\n3x3 Identity Matrix:\\n\", identity_matrix)\n",
        "\n",
        "random_array = np.random.random(30)\n",
        "mean_value = random_array.mean()\n",
        "print(\"\\nRandom Array of size 30:\\n\", random_array)\n",
        "print(\"Mean of the array:\", mean_value)\n"
      ]
    },
    {
      "cell_type": "markdown",
      "metadata": {
        "id": "RxlO3a3bvdjN"
      },
      "source": [
        "Problem 3. Array Operations"
      ]
    },
    {
      "cell_type": "code",
      "execution_count": null,
      "metadata": {
        "colab": {
          "base_uri": "https://localhost:8080/"
        },
        "id": "6Ez4qkicvhvn",
        "outputId": "589283e3-6a10-4cd1-fbed-bbb12583be6a"
      },
      "outputs": [
        {
          "name": "stdout",
          "output_type": "stream",
          "text": [
            "1. Addition of x and y:\n",
            "[[ 6  8]\n",
            " [10 13]]\n",
            "\n",
            "2. Subtraction of x and y:\n",
            "[[-4 -4]\n",
            " [-4 -3]]\n",
            "\n",
            "3. Multiplication of v by 3:\n",
            "[18 20]\n",
            "\n",
            "4. Square of each element in array w:\n",
            "[121 144]\n",
            "Dot product of v and w: 219\n",
            "Dot product of x and v: [29 77]\n",
            "Dot product of x and y:\n",
            "[[19 22]\n",
            " [50 58]]\n",
            "Concatenate x and y along rows:\n",
            "[[1 2]\n",
            " [3 5]\n",
            " [5 6]\n",
            " [7 8]]\n",
            "Concatenate v and w along columns:\n",
            "[[ 9 10]\n",
            " [11 12]]\n",
            "\n",
            "7. Error when concatenating x and v along rows:\n",
            "all the input arrays must have same number of dimensions, but the array at index 0 has 2 dimension(s) and the array at index 1 has 1 dimension(s)\n"
          ]
        }
      ],
      "source": [
        "import numpy as np\n",
        "\n",
        "x = np.array([[1, 2], [3, 5]])\n",
        "y = np.array([[5, 6], [7, 8]])\n",
        "v = np.array([9, 10])\n",
        "w = np.array([11, 12])\n",
        "\n",
        "# Adding two arrays (x and y)\n",
        "array_addition = x + y\n",
        "print(\"1. Addition of x and y:\")\n",
        "print(array_addition)\n",
        "\n",
        "# Subtracting two arrays (x and y)\n",
        "array_subtraction = x - y\n",
        "print(\"\\n2. Subtraction of x and y:\")\n",
        "print(array_subtraction)\n",
        "\n",
        "# Multiplying the array v by an integer\n",
        "array_multiplication = v * 2\n",
        "print(\"\\n3. Multiplication of v by 3:\")\n",
        "print(array_multiplication)\n",
        "\n",
        "# Finding the square of each element in the array w\n",
        "array_square = np.square(w)\n",
        "print(\"\\n4. Square of each element in array w:\")\n",
        "print(array_square)\n",
        "# Finding the dot product between:\n",
        "dot_v_w = np.dot(v, w)\n",
        "print(f\"Dot product of v and w: {dot_v_w}\")\n",
        "\n",
        "dot_x_v = np.dot(x, v)\n",
        "print(f\"Dot product of x and v: {dot_x_v}\")\n",
        "\n",
        "dot_x_y = np.dot(x, y)\n",
        "print(f\"Dot product of x and y:\\n{dot_x_y}\")\n",
        "\n",
        "\n",
        "\n",
        "# Concatenate x and y along rows, and concatenate v and w along columns\n",
        "concat_x_y = np.concatenate((x, y), axis=0)  # Row-wise concatenation\n",
        "concat_v_w = np.vstack((v, w))  # Column-wise concatenation\n",
        "print(\"Concatenate x and y along rows:\")\n",
        "print(concat_x_y)\n",
        "print(\"Concatenate v and w along columns:\")\n",
        "print(concat_v_w)\n",
        "\n",
        "# Concatenate x and v; explain the error if any\n",
        "try:\n",
        "    concat_x_v = np.concatenate((x, v), axis=0)\n",
        "    print(\"\\n7. Concatenate x and v along rows:\")\n",
        "    print(concat_x_v)\n",
        "except ValueError as e:\n",
        "    print(\"\\n7. Error when concatenating x and v along rows:\")\n",
        "    print(e)"
      ]
    },
    {
      "cell_type": "markdown",
      "metadata": {
        "id": "ynNl8Jd3v1TN"
      },
      "source": [
        "Problem 4. Matrix Operation"
      ]
    },
    {
      "cell_type": "code",
      "execution_count": null,
      "metadata": {
        "colab": {
          "base_uri": "https://localhost:8080/"
        },
        "id": "ml7Pk97-v225",
        "outputId": "078bfc7a-6a05-4864-c720-4754c17309c8"
      },
      "outputs": [
        {
          "name": "stdout",
          "output_type": "stream",
          "text": [
            "1. Prove A * A^(-1) = I:\n",
            "[[1.00000000e+00 0.00000000e+00]\n",
            " [1.77635684e-15 1.00000000e+00]]\n",
            "\n",
            "2. Prove AB ≠ BA:\n",
            "AB =\n",
            "[[23 13]\n",
            " [51 29]]\n",
            "BA =\n",
            "[[36 44]\n",
            " [13 16]]\n",
            "Are AB and BA equal?  False\n",
            "\n",
            "3. Prove (AB)^T = B^T * A^T:\n",
            "(AB)^T =\n",
            "[[23 51]\n",
            " [13 29]]\n",
            "B^T * A^T =\n",
            "[[23 51]\n",
            " [13 29]]\n",
            "Are (AB)^T and B^T * A^T equal?  True\n"
          ]
        }
      ],
      "source": [
        "import numpy as np\n",
        "\n",
        "# Define the matrices A and B\n",
        "A = np.array([[3, 4], [7, 8]])\n",
        "B = np.array([[5, 3], [2, 1]])\n",
        "\n",
        "# 1. Prove that A * A^(-1) = I (Identity Matrix)\n",
        "A_inv = np.linalg.inv(A)  # Calculate the inverse of A\n",
        "identity_matrix = np.dot(A, A_inv)  # Multiply A with its inverse\n",
        "print(\"1. Prove A * A^(-1) = I:\")\n",
        "print(identity_matrix)\n",
        "\n",
        "# 2. Prove that AB ≠ BA\n",
        "AB = np.dot(A, B)  # Multiply A and B\n",
        "BA = np.dot(B, A)  # Multiply B and A\n",
        "print(\"\\n2. Prove AB ≠ BA:\")\n",
        "print(\"AB =\")\n",
        "print(AB)\n",
        "print(\"BA =\")\n",
        "print(BA)\n",
        "print(\"Are AB and BA equal? \", np.array_equal(AB, BA))\n",
        "\n",
        "# 3. Prove (AB)^T = B^T * A^T\n",
        "AB_transpose = np.transpose(AB)  # Transpose of AB\n",
        "B_transpose = np.transpose(B)\n",
        "A_transpose = np.transpose(A)\n",
        "BT_AT = np.dot(B_transpose, A_transpose)  # B^T * A^T\n",
        "print(\"\\n3. Prove (AB)^T = B^T * A^T:\")\n",
        "print(\"(AB)^T =\")\n",
        "print(AB_transpose)\n",
        "print(\"B^T * A^T =\")\n",
        "print(BT_AT)\n",
        "print(\"Are (AB)^T and B^T * A^T equal? \", np.array_equal(AB_transpose, BT_AT))\n",
        "\n"
      ]
    },
    {
      "cell_type": "markdown",
      "metadata": {
        "id": "Y-Wp4ZEnw8Z2"
      },
      "source": [
        "Now: solve the above equation using np.linalg.inv function.{Explore more about ”linalg” function\n",
        "of Numpy}"
      ]
    },
    {
      "cell_type": "code",
      "execution_count": null,
      "metadata": {
        "colab": {
          "base_uri": "https://localhost:8080/"
        },
        "id": "es8hqdmgxFjU",
        "outputId": "999346ab-df5d-477f-bc4b-cae7ceee08b4"
      },
      "outputs": [
        {
          "name": "stdout",
          "output_type": "stream",
          "text": [
            "\n",
            "Solution to the system of equations using the inverse method:\n",
            "X (values of x, y, z) =\n",
            "[ 2.  1. -2.]\n"
          ]
        }
      ],
      "source": [
        "A = np.array([[2, -3, 1], [1, -1, 2], [3, 1, -1]])  # Coefficients matrix\n",
        "B = np.array([-1, -3, 9])  # Constants matrix\n",
        "\n",
        "# Solve for X using the inverse method\n",
        "A_inv = np.linalg.inv(A)  # Inverse of A\n",
        "X = np.dot(A_inv, B)\n",
        "print(\"\\nSolution to the system of equations using the inverse method:\")\n",
        "print(\"X (values of x, y, z) =\")\n",
        "print(X)\n"
      ]
    },
    {
      "cell_type": "markdown",
      "metadata": {
        "id": "jrCLXhC5xOiT"
      },
      "source": [
        "1. Element-wise Addition:\n",
        "• Using Python Lists, perform element-wise addition of two lists of size 1, 000, 000. Measure\n",
        "and Print the time taken for this operation.\n",
        "• Using Numpy Arrays, Repeat the calculation and measure and print the time taken for this\n",
        "operation.\n",
        "2. Element-wise Multiplication\n",
        "\n",
        "• Using Python Lists, perform element-wise multiplication of two lists of size 1, 000, 000. Mea-\n",
        "sure and Print the time taken for this operation.\n",
        "\n",
        "• Using Numpy Arrays, Repeat the calculation and measure and print the time taken for this\n",
        "operation.\n",
        "3. Dot Product\n",
        "• Using Python Lists, compute the dot product of two lists of size 1, 000, 000. Measure and\n",
        "Print the time taken for this operation.\n",
        "• Using Numpy Arrays, Repeat the calculation and measure and print the time taken for this\n",
        "operation.\n",
        "4. Matrix Multiplication\n",
        "• Using Python lists, perform matrix multiplication of two matrices of size 1000x1000. Measure\n",
        "and print the time taken for this operation.\n",
        "\n",
        "• Using NumPy arrays, perform matrix multiplication of two matrices of size 1000x1000. Mea-\n",
        "sure and print the time taken for this operation."
      ]
    },
    {
      "cell_type": "code",
      "execution_count": null,
      "metadata": {
        "colab": {
          "background_save": true,
          "base_uri": "https://localhost:8080/"
        },
        "id": "KiHVw6Ov1D3m",
        "outputId": "b85725c2-6eb7-4a7b-be87-edfb10c4eb01"
      },
      "outputs": [
        {
          "name": "stdout",
          "output_type": "stream",
          "text": [
            "Element-wise Addition with Python Lists: 0.1359 seconds\n",
            "Element-wise Addition with NumPy Arrays: 0.0046 seconds\n",
            "Element-wise Multiplication with Python Lists: 0.1318 seconds\n",
            "Element-wise Multiplication with NumPy Arrays: 0.0050 seconds\n",
            "Dot Product with Python Lists: 0.2620 seconds\n",
            "Dot Product with NumPy Arrays: 0.0019 seconds\n",
            "Matrix Multiplication with Python Lists: 246.0360 seconds\n",
            "Matrix Multiplication with NumPy Arrays: 1.3085 seconds\n"
          ]
        }
      ],
      "source": [
        "import time\n",
        "import numpy as np\n",
        "\n",
        "# Element-wise Addition\n",
        "def element_wise_addition():\n",
        "    size = 1_000_000\n",
        "    list1 = [i for i in range(size)]\n",
        "    list2 = [i for i in range(size)]\n",
        "    array1 = np.arange(size)\n",
        "    array2 = np.arange(size)\n",
        "\n",
        "    # Using Python Lists\n",
        "    start_time = time.time()\n",
        "    list_result = [list1[i] + list2[i] for i in range(size)]\n",
        "    list_time = time.time() - start_time\n",
        "    print(f\"Element-wise Addition with Python Lists: {list_time:.4f} seconds\")\n",
        "\n",
        "    # Using NumPy Arrays\n",
        "    start_time = time.time()\n",
        "    array_result = array1 + array2\n",
        "    numpy_time = time.time() - start_time\n",
        "    print(f\"Element-wise Addition with NumPy Arrays: {numpy_time:.4f} seconds\")\n",
        "    # Element-wise Multiplication\n",
        "def element_wise_multiplication():\n",
        "    size = 1_000_000\n",
        "    list1 = [i for i in range(size)]\n",
        "    list2 = [i for i in range(size)]\n",
        "    array1 = np.arange(size)\n",
        "    array2 = np.arange(size)\n",
        "\n",
        "    # Using Python Lists\n",
        "    start_time = time.time()\n",
        "    list_result = [list1[i] * list2[i] for i in range(size)]\n",
        "    list_time = time.time() - start_time\n",
        "    print(f\"Element-wise Multiplication with Python Lists: {list_time:.4f} seconds\")\n",
        "\n",
        "    # Using NumPy Arrays\n",
        "    start_time = time.time()\n",
        "    array_result = array1 * array2\n",
        "    numpy_time = time.time() - start_time\n",
        "    print(f\"Element-wise Multiplication with NumPy Arrays: {numpy_time:.4f} seconds\")\n",
        "\n",
        "# Dot Product\n",
        "def dot_product():\n",
        "    size = 1_000_000\n",
        "    list1 = [i for i in range(size)]\n",
        "    list2 = [i for i in range(size)]\n",
        "    array1 = np.arange(size)\n",
        "    array2 = np.arange(size)\n",
        "\n",
        "    # Using Python Lists\n",
        "    start_time = time.time()\n",
        "    dot_product = sum(list1[i] * list2[i] for i in range(size))\n",
        "    list_time = time.time() - start_time\n",
        "    print(f\"Dot Product with Python Lists: {list_time:.4f} seconds\")\n",
        "\n",
        "    # Using NumPy Arrays\n",
        "    start_time = time.time()\n",
        "    dot_product = np.dot(array1, array2)\n",
        "    numpy_time = time.time() - start_time\n",
        "    print(f\"Dot Product with NumPy Arrays: {numpy_time:.4f} seconds\")\n",
        "\n",
        "# Matrix Multiplication\n",
        "def matrix_multiplication():\n",
        "    size = 1000\n",
        "    matrix1 = [[i for i in range(size)] for _ in range(size)]\n",
        "    matrix2 = [[i for i in range(size)] for _ in range(size)]\n",
        "    np_matrix1 = np.array(matrix1)\n",
        "    np_matrix2 = np.array(matrix2)\n",
        "    # Using Python Lists\n",
        "    start_time = time.time()\n",
        "    result = [[sum(matrix1[i][k] * matrix2[k][j] for k in range(size)) for j in range(size)] for i in range(size)]\n",
        "    list_time = time.time() - start_time\n",
        "    print(f\"Matrix Multiplication with Python Lists: {list_time:.4f} seconds\")\n",
        "\n",
        "    # Using NumPy Arrays\n",
        "    start_time = time.time()\n",
        "    result = np.dot(np_matrix1, np_matrix2)\n",
        "    numpy_time = time.time() - start_time\n",
        "    print(f\"Matrix Multiplication with NumPy Arrays: {numpy_time:.4f} seconds\")\n",
        "\n",
        "# Run the experiments\n",
        "element_wise_addition()\n",
        "element_wise_multiplication()\n",
        "dot_product()\n",
        "matrix_multiplication()"
      ]
    }
  ],
  "metadata": {
    "colab": {
      "provenance": []
    },
    "kernelspec": {
      "display_name": "Python 3",
      "name": "python3"
    },
    "language_info": {
      "name": "python"
    }
  },
  "nbformat": 4,
  "nbformat_minor": 0
}